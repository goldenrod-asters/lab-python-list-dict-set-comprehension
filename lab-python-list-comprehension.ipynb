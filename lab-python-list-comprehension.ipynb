{
 "cells": [
  {
   "cell_type": "markdown",
   "id": "25d7736c-ba17-4aff-b6bb-66eba20fbf4e",
   "metadata": {},
   "source": [
    "# Lab | List, Dict and Set Comprehension"
   ]
  },
  {
   "cell_type": "markdown",
   "id": "7dd3cbde-675a-4b81-92c3-f728846dbe06",
   "metadata": {},
   "source": [
    "## Exercise: Managing Customer Orders Optimized with Comprehension"
   ]
  },
  {
   "cell_type": "markdown",
   "id": "5d500160-2fb7-4777-b5e4-09d45ebaf328",
   "metadata": {},
   "source": [
    "In the previous exercise, you developed a program to manage customer orders and inventory. Now, let's take it a step further and incorporate comprehension into your code.\n",
    "\n",
    "Follow the steps below to complete the exercise:\n",
    "\n",
    "1. Review your code from the previous exercise and identify areas where you can apply comprehension to simplify and streamline your code. \n",
    "\n",
    "    - *Hint: Apply it to initialize inventory, updating the inventory and printing the updated inventory.*\n",
    "    \n",
    "    - For example, in initializing the inventory, we could have:\n",
    "    \n",
    "        ```python\n",
    "        def initialize_inventory(products):\n",
    "            inventory = {product: int(input(f\"Enter the quantity of {product}s available: \")) for product in products}\n",
    "            return inventory\n",
    "\n",
    "        ```\n",
    "<br>\n",
    "    \n",
    "    \n",
    "2. Modify the function get_customer_orders so it prompts the user to enter the number of customer orders and gathers the product names using a loop and user input. Use comprehension.\n",
    "\n",
    "3. Add a new function to calculate the total price of the customer order. For each product in customer_orders, prompt the user to enter the price of that product. Use comprehension to calculate the total price. Note: assume that the user can only have 1 unit of each product.\n",
    "\n",
    "4. Modify the update_inventory function to remove the product from the inventory if its quantity becomes zero after fulfilling the customer orders. Use comprehension to filter out the products with a quantity of zero from the inventory.\n",
    "\n",
    "5. Print the total price of the customer order.\n",
    "\n",
    "Your code should produce output similar to the following:\n",
    "\n",
    "```python\n",
    "Enter the quantity of t-shirts available:  5\n",
    "Enter the quantity of mugs available:  4\n",
    "Enter the quantity of hats available:  3\n",
    "Enter the quantity of books available:  2\n",
    "Enter the quantity of keychains available:  1\n",
    "Enter the number of customer orders:  2\n",
    "Enter the name of a product that a customer wants to order:  hat\n",
    "Enter the name of a product that a customer wants to order:  keychain\n",
    "\n",
    "Order Statistics:\n",
    "Total Products Ordered: 2\n",
    "Percentage of Unique Products Ordered: 40.0\n",
    "\n",
    "Updated Inventory:\n",
    "t-shirt: 5\n",
    "mug: 4\n",
    "hat: 2\n",
    "book: 2\n",
    "Enter the price of keychain:  5\n",
    "Enter the price of hat:  10\n",
    "Total Price: 15.0\n",
    "\n",
    "```\n"
   ]
  },
  {
   "cell_type": "code",
   "execution_count": 10,
   "id": "919be657",
   "metadata": {},
   "outputs": [],
   "source": [
    "products = [\"t-shirt\", \"mug\", \"hat\", \"book\", \"keychain\"]\n",
    "inventory = {}\n",
    "\n",
    "def initialize_inventory(products):\n",
    "    inventory = {i:int(input(f\"Enter the quantity available in inventory for {i}: \")) for i in products}\n",
    "    return inventory"
   ]
  },
  {
   "cell_type": "code",
   "execution_count": 27,
   "id": "89b1c890",
   "metadata": {},
   "outputs": [],
   "source": [
    "customer_orders = set()\n",
    "\n",
    "# 2\n",
    "def get_customer_orders():\n",
    "    ordernumber = int(input(\"How many products would the customer like to order: \"))\n",
    "    customer_orders = {\n",
    "        input(\"Enter the name of a product that the customer would like to order: \").lower().strip()\n",
    "        for i in range(ordernumber)}\n",
    "    return customer_orders            \n",
    "\n",
    "# 4 \n",
    "def update_inventory(customer_orders,inventory):\n",
    "    inventory = {\n",
    "        prod: inventory[prod] - 1 \n",
    "        if prod in customer_orders and inventory[prod] > 0 \n",
    "        else inventory[prod] for prod in inventory}\n",
    "    # filter inventory out for products that are out of stock\n",
    "    inventory = {prod:quant for prod,quant in inventory.items() if quant > 0}\n",
    "    return inventory\n",
    "\n",
    "# dictionary comprehension limits my ability to check inventory amounts and warn user that a product is out of stock"
   ]
  },
  {
   "cell_type": "code",
   "execution_count": 18,
   "id": "b6acaa46",
   "metadata": {},
   "outputs": [],
   "source": [
    "def calculate_order_statistics(customer_orders,products):\n",
    "    totalordered = len(customer_orders)\n",
    "    percordered = totalordered / sum(inventory.values()) * 100\n",
    "    return totalordered, percordered\n",
    "\n",
    "def print_order_statistics(order_status):\n",
    "    print(f\"Order Statistics: \")\n",
    "    print(f\"Total Products Ordered: {order_status[0]}\")\n",
    "    print(f\"Percentage of Products Ordered: {order_status[1]}%\")\n",
    "    \n",
    "def print_updated_inventory(updated_inventory):\n",
    "    print(f\"Updated inventory: \")\n",
    "    [print(f\"{product}: {quantity}\") for product, quantity in updated_inventory.items()]"
   ]
  },
  {
   "cell_type": "code",
   "execution_count": 19,
   "id": "ea3de877",
   "metadata": {},
   "outputs": [],
   "source": [
    "# 3\n",
    "def calculate_price(customer_orders):\n",
    "    prices = {\n",
    "        int(input(f\"Enter the price of a {product}: \"))\n",
    "        for product in customer_orders}\n",
    "    totalprice = sum(prices)\n",
    "    return totalprice\n",
    "    print(f\"Total price: {totalprice}\")"
   ]
  },
  {
   "cell_type": "code",
   "execution_count": 29,
   "id": "fda64b56",
   "metadata": {},
   "outputs": [
    {
     "name": "stdout",
     "output_type": "stream",
     "text": [
      "Enter the quantity available in inventory for t-shirt: 2\n",
      "Enter the quantity available in inventory for mug: 3\n",
      "Enter the quantity available in inventory for hat: 4\n",
      "Enter the quantity available in inventory for book: 5\n",
      "Enter the quantity available in inventory for keychain: 6\n"
     ]
    }
   ],
   "source": [
    "inventory = initialize_inventory(products)"
   ]
  },
  {
   "cell_type": "code",
   "execution_count": 30,
   "id": "8e560421",
   "metadata": {},
   "outputs": [
    {
     "name": "stdout",
     "output_type": "stream",
     "text": [
      "How many products would the cutomerer like to order: 2\n",
      "Enter the name of a product that the customer would like to order: hat\n",
      "Enter the name of a product that the customer would like to order: mug\n"
     ]
    }
   ],
   "source": [
    "customer_orders = get_customer_orders()\n",
    "updated_inventory = update_inventory(customer_orders,inventory)"
   ]
  },
  {
   "cell_type": "code",
   "execution_count": 31,
   "id": "afb79c15",
   "metadata": {},
   "outputs": [
    {
     "name": "stdout",
     "output_type": "stream",
     "text": [
      "{'t-shirt': 2, 'mug': 2, 'hat': 3, 'book': 5, 'keychain': 6}\n"
     ]
    }
   ],
   "source": [
    "print(updated_inventory)"
   ]
  },
  {
   "cell_type": "code",
   "execution_count": 32,
   "id": "61caafa6",
   "metadata": {},
   "outputs": [
    {
     "name": "stdout",
     "output_type": "stream",
     "text": [
      "Order Statistics: \n",
      "Total Products Ordered: 2\n",
      "Percentage of Products Ordered: 10.0%\n"
     ]
    }
   ],
   "source": [
    "order_status = calculate_order_statistics(customer_orders,products)\n",
    "print_order_statistics(order_status)"
   ]
  }
 ],
 "metadata": {
  "kernelspec": {
   "display_name": "Python 3 (ipykernel)",
   "language": "python",
   "name": "python3"
  },
  "language_info": {
   "codemirror_mode": {
    "name": "ipython",
    "version": 3
   },
   "file_extension": ".py",
   "mimetype": "text/x-python",
   "name": "python",
   "nbconvert_exporter": "python",
   "pygments_lexer": "ipython3",
   "version": "3.11.5"
  }
 },
 "nbformat": 4,
 "nbformat_minor": 5
}
